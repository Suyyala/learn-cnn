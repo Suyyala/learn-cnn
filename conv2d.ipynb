{
  "nbformat": 4,
  "nbformat_minor": 0,
  "metadata": {
    "colab": {
      "provenance": []
    },
    "kernelspec": {
      "name": "python3",
      "display_name": "Python 3"
    },
    "language_info": {
      "name": "python"
    }
  },
  "cells": [
    {
      "cell_type": "code",
      "execution_count": 60,
      "metadata": {
        "id": "AaqKOSCjsGpT"
      },
      "outputs": [],
      "source": [
        "import torch\n",
        "import torch.nn as nn\n",
        "import torch.nn.functional as F"
      ]
    },
    {
      "cell_type": "code",
      "source": [
        "# Simple convolution operation\n",
        "\n",
        "A = torch.tensor([[1, 2], [3, 4]])\n",
        "B = torch.tensor([[1, 0], [0, 1]])\n",
        "\n",
        "C = A * B\n",
        "print(C)\n",
        "print(torch.sum(C))"
      ],
      "metadata": {
        "colab": {
          "base_uri": "https://localhost:8080/"
        },
        "id": "c_SbnFinwtfy",
        "outputId": "f6932384-9016-4ce9-865a-8118768c5a67"
      },
      "execution_count": 61,
      "outputs": [
        {
          "output_type": "stream",
          "name": "stdout",
          "text": [
            "tensor([[1, 0],\n",
            "        [0, 4]])\n",
            "tensor(5)\n"
          ]
        }
      ]
    },
    {
      "cell_type": "code",
      "source": [
        "# Convolution with stride\n",
        "def conv2d(A, K):\n",
        "  a_h, a_w = A.shape\n",
        "  k_h, k_w = K.shape\n",
        "  o_h = a_h - k_h + 1\n",
        "  o_w = a_w - k_w +1\n",
        "\n",
        "  out = torch.zeros((o_h, o_w))\n",
        "\n",
        "  for i in range(o_h):\n",
        "    for j in range(o_w):\n",
        "      c = A[i:i+k_h, j:j + k_w] * K\n",
        "      out[i, j] = torch.sum(c)\n",
        "  return out\n",
        "\n",
        "\n",
        "a = torch.ones((4, 4))\n",
        "k = torch.ones((2,2))\n",
        "print(conv2d(a, k))\n",
        ""
      ],
      "metadata": {
        "colab": {
          "base_uri": "https://localhost:8080/"
        },
        "id": "5ZXFzSmbyvxj",
        "outputId": "e54ac911-2186-4c23-ab57-27342abe7e15"
      },
      "execution_count": 63,
      "outputs": [
        {
          "output_type": "stream",
          "name": "stdout",
          "text": [
            "tensor([[4., 4., 4.],\n",
            "        [4., 4., 4.],\n",
            "        [4., 4., 4.]])\n"
          ]
        }
      ]
    },
    {
      "cell_type": "code",
      "source": [
        "import torch\n",
        "import torch.nn.functional as F\n",
        "\n",
        "# convolution with stride and padding\n",
        "# why do i need padding - to preserve information at the border\n",
        "# 2) to keep spatial dimention\n",
        "def conv2d(A, K, stride=1, padding=1):\n",
        "    # Pad the input tensor\n",
        "    A = F.pad(A, (padding, padding, padding, padding))\n",
        "\n",
        "    a_h, a_w = A.shape\n",
        "    k_h, k_w = K.shape\n",
        "\n",
        "    o_h = (a_h - k_h) // stride + 1\n",
        "    o_w = (a_w - k_w) // stride + 1\n",
        "\n",
        "    out = torch.zeros((o_h, o_w))\n",
        "\n",
        "    for i in range(0, o_h, stride):\n",
        "        for j in range(0, o_w, stride):\n",
        "            c = A[i: i + k_h, j: j + k_w] * K\n",
        "            out[i, j] = torch.sum(c)\n",
        "\n",
        "    return out\n",
        "\n",
        "a = torch.ones((5, 5))\n",
        "k = torch.ones((3, 3))\n",
        "\n",
        "print(conv2d(a, k, stride=2, padding=2))\n"
      ],
      "metadata": {
        "colab": {
          "base_uri": "https://localhost:8080/"
        },
        "id": "koZcu4A0rQkD",
        "outputId": "53a3dadb-00be-4b17-f773-1a6f28c27901"
      },
      "execution_count": 74,
      "outputs": [
        {
          "output_type": "stream",
          "name": "stdout",
          "text": [
            "tensor([[1., 0., 3., 0.],\n",
            "        [0., 0., 0., 0.],\n",
            "        [3., 0., 9., 0.],\n",
            "        [0., 0., 0., 0.]])\n"
          ]
        }
      ]
    },
    {
      "cell_type": "code",
      "source": [
        "# Create a 2D convolution layer\n",
        "conv = nn.Conv2d(in_channels=1, out_channels=1, kernel_size=2, stride=1, padding=2)\n",
        "\n",
        "# Manually set the weights and bias of the convolution layer\n",
        "conv.weight.data = torch.Tensor([[[[1, 2], [3, 4]]]])\n",
        "conv.bias.data.fill_(0)\n",
        "\n",
        "# Create a 3x3 input with a batch size of 1\n",
        "input = torch.Tensor([[[[1, 1, 1], [1, 1, 1], [1, 1, 1]]]])\n",
        "output = conv(input)\n",
        "\n",
        "print(output)"
      ],
      "metadata": {
        "colab": {
          "base_uri": "https://localhost:8080/"
        },
        "id": "udshhgHToWD4",
        "outputId": "a6305056-2eb0-4143-b15d-07df255d6d1c"
      },
      "execution_count": 75,
      "outputs": [
        {
          "output_type": "stream",
          "name": "stdout",
          "text": [
            "tensor([[[[ 0.,  0.,  0.,  0.,  0.,  0.],\n",
            "          [ 0.,  4.,  7.,  7.,  3.,  0.],\n",
            "          [ 0.,  6., 10., 10.,  4.,  0.],\n",
            "          [ 0.,  6., 10., 10.,  4.,  0.],\n",
            "          [ 0.,  2.,  3.,  3.,  1.,  0.],\n",
            "          [ 0.,  0.,  0.,  0.,  0.,  0.]]]], grad_fn=<ConvolutionBackward0>)\n"
          ]
        }
      ]
    },
    {
      "cell_type": "code",
      "source": [
        "# step1: Define the architecture\n",
        "# conv = nn.Conv2d(1, 32, kernel_size=3, stride=1, padding=1)\n",
        "\n",
        "\n",
        "\n",
        "class Conv2d(nn.Module):\n",
        "  def __init__(self, in_channles, out_channels=1, kernel_size=3, stride=1, padding=0 ):\n",
        "    self.k = torch.randn((kernel_size, kernel_size))\n",
        "\n",
        "\n",
        "  def __call__(self, x):\n",
        "    self.forward(x)\n",
        "\n",
        "  def forward(self, x):\n",
        "    # create feature map for with each filter by applying convolution\n",
        "    return x\n",
        ""
      ],
      "metadata": {
        "id": "FiQhMTyYzpYL"
      },
      "execution_count": null,
      "outputs": []
    },
    {
      "cell_type": "code",
      "source": [
        "class LearnCNN(nn.Module):\n",
        "  def __init__(self, batch_size, filters=1, kernel_size=3, stride=1, padding=0)"
      ],
      "metadata": {
        "id": "CkOUr37aa37i"
      },
      "execution_count": null,
      "outputs": []
    },
    {
      "cell_type": "code",
      "source": [
        "from torch.utils import data\n",
        "# step2: Data preparation - MNIST\n",
        "from torch.utils.data import DataLoader, random_split\n",
        "from torchvision import datasets, transforms\n",
        "\n",
        "# Download dataset\n",
        "# Define a transform to normalize the data\n",
        "transform = transforms.Compose([transforms.ToTensor(),\n",
        "                                transforms.Normalize((0.5,), (0.5,))])\n",
        "\n",
        "full_data = datasets.MNIST('./data', download=True, transform=transform)\n",
        "\n",
        "# Proprocess dataset\n",
        "train_size = int(len(full_data) * 0.7)\n",
        "test_size = int(len(full_data) * 0.2)\n",
        "val_size = int(len(full_data) * 0.1)\n",
        "\n",
        "# Split dataset\n",
        "train_set, test_set, val_set = random_split(full_data, [train_size, test_size, val_size])\n",
        "print(len(train_set), len(test_set), len(val_set))\n"
      ],
      "metadata": {
        "colab": {
          "base_uri": "https://localhost:8080/"
        },
        "id": "ZN1BBfzMKObb",
        "outputId": "30e7620b-a692-4fce-ff4d-3e5574beec6f"
      },
      "execution_count": 32,
      "outputs": [
        {
          "output_type": "stream",
          "name": "stdout",
          "text": [
            "42000 12000 6000\n"
          ]
        }
      ]
    },
    {
      "cell_type": "code",
      "source": [
        "# Create DataLoaders for each dataset\n",
        "train_loader = DataLoader(train_set, batch_size=32, shuffle=True)\n",
        "valid_loader = DataLoader(val_set, batch_size=32, shuffle=False)\n",
        "test_loader = DataLoader(test_set, batch_size=32, shuffle=False)"
      ],
      "metadata": {
        "id": "lAx7UEexVt9e"
      },
      "execution_count": 33,
      "outputs": []
    },
    {
      "cell_type": "code",
      "source": [
        "for images, labels in train_loader:\n",
        "    print(images.shape, labels.shape)\n",
        "    break\n"
      ],
      "metadata": {
        "colab": {
          "base_uri": "https://localhost:8080/"
        },
        "id": "vVuGe5UVW7wX",
        "outputId": "12a161c3-4280-42c3-9724-9f7408b60836"
      },
      "execution_count": 34,
      "outputs": [
        {
          "output_type": "stream",
          "name": "stdout",
          "text": [
            "torch.Size([32, 1, 28, 28]) torch.Size([32])\n"
          ]
        }
      ]
    },
    {
      "cell_type": "code",
      "source": [
        "import torchvision\n",
        "import matplotlib.pyplot as plt\n",
        "import numpy as np\n",
        "\n",
        "# Get a batch of training data\n",
        "dataiter = iter(train_loader)\n",
        "images, labels = next(dataiter)\n",
        "\n",
        "# Move the images to cpu\n",
        "generated_images = images[:4]\n",
        "\n",
        "# Create a grid of images and convert it to numpy\n",
        "grid = torchvision.utils.make_grid(generated_images, nrow=8)\n",
        "npimg = grid.numpy()\n",
        "\n",
        "# Plot the grid of images\n",
        "# Plot the images\n",
        "plt.imshow(np.transpose(npimg, (1, 2, 0)))\n",
        "plt.show()"
      ],
      "metadata": {
        "colab": {
          "base_uri": "https://localhost:8080/",
          "height": 212
        },
        "id": "-r_bOL6lUYHO",
        "outputId": "2032023a-58d7-461b-8b25-3217c84242ac"
      },
      "execution_count": 39,
      "outputs": [
        {
          "output_type": "stream",
          "name": "stderr",
          "text": [
            "WARNING:matplotlib.image:Clipping input data to the valid range for imshow with RGB data ([0..1] for floats or [0..255] for integers).\n"
          ]
        },
        {
          "output_type": "display_data",
          "data": {
            "text/plain": [
              "<Figure size 640x480 with 1 Axes>"
            ],
            "image/png": "[encoded data removed]"
          },
          "metadata": {}
        }
      ]
    },
    {
      "cell_type": "code",
      "source": [
        "# Step3: Training\n",
        "\n",
        "# hyper parameters\n",
        "\n",
        "batch_size = 32\n",
        "channels = 3\n",
        "width = 64\n",
        "height = 64\n",
        "\n",
        "\n",
        "conv = nn.Conv2d(1, 32, kernel_size=3, stride=1, padding=1)\n",
        "\n",
        "# training loop\n",
        "loss_func = nn.CrossEntropyLoss()\n",
        "\n",
        "optimizer = torch.optim.adam(conv.parameters())\n",
        "n_epochs = 10\n",
        "for epoch in range(n_epochs):\n",
        "  for batch in train_loader:\n",
        "    y_preds = nn.conv2d(batch)\n",
        "    # why ? loss -negative log likely hood\n",
        "    # logits\n",
        "    y_preds = F.softmax(y_preds)\n",
        "    # loss calculation\n",
        "    loss = loss_func(y_preds, y)\n",
        "    # zero the gradients\n",
        "    optimizer.zero_grad()\n",
        "    # calculate graidents\n",
        "    loss.backward()\n",
        "    # update weights\n",
        "    optimizer.step()\n",
        "    # Print the loss for this epoch\n",
        "    print(f'Epoch {epoch+1}, Loss: {loss.item()}')"
      ],
      "metadata": {
        "colab": {
          "base_uri": "https://localhost:8080/",
          "height": 240
        },
        "id": "zb1YI8o31AIg",
        "outputId": "0d15f829-440a-4c0b-d54c-499c8dedebd5"
      },
      "execution_count": 40,
      "outputs": [
        {
          "output_type": "error",
          "ename": "AttributeError",
          "evalue": "ignored",
          "traceback": [
            "\u001b[0;31m---------------------------------------------------------------------------\u001b[0m",
            "\u001b[0;31mAttributeError\u001b[0m                            Traceback (most recent call last)",
            "\u001b[0;32m<ipython-input-40-12e6f6c5cc11>\u001b[0m in \u001b[0;36m<cell line: 16>\u001b[0;34m()\u001b[0m\n\u001b[1;32m     14\u001b[0m \u001b[0mloss_func\u001b[0m \u001b[0;34m=\u001b[0m \u001b[0mnn\u001b[0m\u001b[0;34m.\u001b[0m\u001b[0mCrossEntropyLoss\u001b[0m\u001b[0;34m(\u001b[0m\u001b[0;34m)\u001b[0m\u001b[0;34m\u001b[0m\u001b[0;34m\u001b[0m\u001b[0m\n\u001b[1;32m     15\u001b[0m \u001b[0;34m\u001b[0m\u001b[0m\n\u001b[0;32m---> 16\u001b[0;31m \u001b[0moptimizer\u001b[0m \u001b[0;34m=\u001b[0m \u001b[0mtorch\u001b[0m\u001b[0;34m.\u001b[0m\u001b[0moptim\u001b[0m\u001b[0;34m.\u001b[0m\u001b[0madam\u001b[0m\u001b[0;34m(\u001b[0m\u001b[0mconv\u001b[0m\u001b[0;34m.\u001b[0m\u001b[0mparameters\u001b[0m\u001b[0;34m(\u001b[0m\u001b[0;34m)\u001b[0m\u001b[0;34m)\u001b[0m\u001b[0;34m\u001b[0m\u001b[0;34m\u001b[0m\u001b[0m\n\u001b[0m\u001b[1;32m     17\u001b[0m \u001b[0mn_epochs\u001b[0m \u001b[0;34m=\u001b[0m \u001b[0;36m10\u001b[0m\u001b[0;34m\u001b[0m\u001b[0;34m\u001b[0m\u001b[0m\n\u001b[1;32m     18\u001b[0m \u001b[0;32mfor\u001b[0m \u001b[0mepoch\u001b[0m \u001b[0;32min\u001b[0m \u001b[0mrange\u001b[0m\u001b[0;34m(\u001b[0m\u001b[0mn_epochs\u001b[0m\u001b[0;34m)\u001b[0m\u001b[0;34m:\u001b[0m\u001b[0;34m\u001b[0m\u001b[0;34m\u001b[0m\u001b[0m\n",
            "\u001b[0;31mAttributeError\u001b[0m: module 'torch.optim' has no attribute 'adam'"
          ]
        }
      ]
    }
  ]
}